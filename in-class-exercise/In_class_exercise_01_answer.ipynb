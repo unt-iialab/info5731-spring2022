{
 "cells": [
  {
   "cell_type": "markdown",
   "metadata": {
    "colab_type": "text",
    "id": "view-in-github"
   },
   "source": [
    "<a href=\"https://colab.research.google.com/github/unt-iialab/INFO5731_Spring2020/blob/master/In_class_exercise/In_class_exercise_01.ipynb\" target=\"_parent\"><img src=\"https://colab.research.google.com/assets/colab-badge.svg\" alt=\"Open In Colab\"/></a>"
   ]
  },
  {
   "cell_type": "markdown",
   "metadata": {
    "colab_type": "text",
    "id": "DymRJbxDBCnf"
   },
   "source": [
    "# **The first In-class-exercise (09/01/2021, 40 points in total)**"
   ]
  },
  {
   "cell_type": "markdown",
   "metadata": {
    "colab_type": "text",
    "id": "03jb4GZsBkBS"
   },
   "source": [
    "(1) Write a Python program to calculate the length of a string. (4 points)"
   ]
  },
  {
   "cell_type": "code",
   "execution_count": 2,
   "metadata": {
    "colab": {},
    "colab_type": "code",
    "id": "YaGLbSHHB8Ej"
   },
   "outputs": [
    {
     "name": "stdout",
     "output_type": "stream",
     "text": [
      "14\n"
     ]
    }
   ],
   "source": [
    "# write your answer here\n",
    "\n",
    "def string_length(str1):\n",
    "    count = 0\n",
    "    for char in str1:\n",
    "        count += 1\n",
    "    return count\n",
    "print(string_length('w3resource.com'))"
   ]
  },
  {
   "cell_type": "markdown",
   "metadata": {
    "colab_type": "text",
    "id": "jJDe71iLB616"
   },
   "source": [
    "(2) Write a Python program to count the number of characters in a string. (4 points)\n",
    "\n",
    "Sample String : 'google.com‘, \n",
    "\n",
    "Expected Result : {'o': 3, 'g': 2, '.': 1, 'e': 1, 'l': 1, 'm': 1, 'c': 1}"
   ]
  },
  {
   "cell_type": "code",
   "execution_count": 3,
   "metadata": {
    "colab": {},
    "colab_type": "code",
    "id": "MtKskTzbCLaU"
   },
   "outputs": [
    {
     "name": "stdout",
     "output_type": "stream",
     "text": [
      "Expected Result: {'o': 3, 'g': 2, 'l': 1, 'e': 1, '.': 1, 'c': 1, 'm': 1}\n"
     ]
    }
   ],
   "source": [
    "# write your answer here\n",
    "\n",
    "import operator\n",
    "\n",
    "def stringToDict(str1):\n",
    "  str_dict = dict()\n",
    "  for i in str1:\n",
    "    count = 0\n",
    "    for s in str1:\n",
    "      if i == s:\n",
    "        count += 1\n",
    "    str_dict[i] = count\n",
    "  sorted_d = dict( sorted(str_dict.items(), key=operator.itemgetter(1),reverse=True))\n",
    "  return sorted_d\n",
    "\n",
    "# Declaring an input string and calling above function\n",
    "string = \"google.com\"\n",
    "print(\"Expected Result:\", stringToDict(string))"
   ]
  },
  {
   "cell_type": "markdown",
   "metadata": {
    "colab_type": "text",
    "id": "55W9AMdXCSpV"
   },
   "source": [
    "(3) Write a Python program to sum all the items in a list. (4 points)"
   ]
  },
  {
   "cell_type": "code",
   "execution_count": 4,
   "metadata": {
    "colab": {},
    "colab_type": "code",
    "id": "I57NXsauCec2"
   },
   "outputs": [
    {
     "name": "stdout",
     "output_type": "stream",
     "text": [
      "-5\n"
     ]
    }
   ],
   "source": [
    "# write your answer here\n",
    "\n",
    "def sum_list(items):  \n",
    "    sum_numbers = 0  \n",
    "    for x in items:  \n",
    "        sum_numbers += x  \n",
    "    return sum_numbers  \n",
    "print(sum_list([1,2,-8]))"
   ]
  },
  {
   "cell_type": "markdown",
   "metadata": {
    "colab_type": "text",
    "id": "4ulBZ6yhCi9F"
   },
   "source": [
    "(4) Write a Python program to get a string from a given string where all occurrences of its first char have been changed to '\\$', except the first char itself. (4 points)\n",
    "\n",
    "Sample String : 'restart‘, \n",
    "\n",
    "Expected Result : 'resta\\$t'"
   ]
  },
  {
   "cell_type": "code",
   "execution_count": 5,
   "metadata": {
    "colab": {},
    "colab_type": "code",
    "id": "Fj0XhwbBCw2o"
   },
   "outputs": [
    {
     "name": "stdout",
     "output_type": "stream",
     "text": [
      "resta$t\n"
     ]
    }
   ],
   "source": [
    "# write your answer here\n",
    "\n",
    "def change_char(str1):  \n",
    "  char = str1[0]  \n",
    "  length = len(str1)  \n",
    "  str1 = str1.replace(char, '$')  \n",
    "  str1 = char + str1[1:]  \n",
    "  \n",
    "  return str1  \n",
    "  \n",
    "print(change_char('restart'))"
   ]
  },
  {
   "cell_type": "markdown",
   "metadata": {
    "colab_type": "text",
    "id": "_bIP7s1MCzue"
   },
   "source": [
    "(5) Write a program with python which could accept two parameter a and b to calculate and output the result of S, where \n",
    "\n",
    "$\\ S=3.14*(1+a/b)^3$ (4 points)\n",
    "\n"
   ]
  },
  {
   "cell_type": "code",
   "execution_count": 6,
   "metadata": {
    "colab": {},
    "colab_type": "code",
    "id": "w79QilHXD3Mg"
   },
   "outputs": [
    {
     "name": "stdout",
     "output_type": "stream",
     "text": [
      "Please enter a value for a : 5\n",
      "Please enter a value for b : 7\n",
      " Expected result :  15.81900874635569\n"
     ]
    }
   ],
   "source": [
    "# write your answer here\n",
    "\n",
    "# Using funtion to throw 'Divide by Zero' error\n",
    "def error(error_desc):\n",
    "  print(error_desc)\n",
    "  return\n",
    "\n",
    "# Using funtion to accept two parameters to calculate the given output\n",
    "def calculate_S(a, b):\n",
    "  if b == 0:\n",
    "    error(\"Runtime Error: Attempt to divide by zero\")\n",
    "  return 3.14 * (1 + a/b)**3\n",
    "\n",
    "#intializing a & b variables through keyboard input\n",
    "parameter_a = int(input(\"Please enter a value for a : \"))\n",
    "parameter_b = int(input(\"Please enter a value for b : \"))\n",
    "\n",
    "#Calling the above functions and printing results \n",
    "print(\" Expected result : \", calculate_S(parameter_a, parameter_b))"
   ]
  },
  {
   "cell_type": "markdown",
   "metadata": {
    "colab_type": "text",
    "id": "xCa2bK9aD4Q3"
   },
   "source": [
    "(6) Write a Python program to concatenate following dictionaries to create a new one. (4 points)\n",
    "\n",
    "Sample Dictionary : dic1={1:10, 2:20}, dic2={3:30, 4:40}, dic3={5:50,6:60}, \n",
    "\n",
    "Expected Result : {1: 10, 2: 20, 3: 30, 4: 40, 5: 50, 6: 60}\n"
   ]
  },
  {
   "cell_type": "code",
   "execution_count": 7,
   "metadata": {
    "colab": {},
    "colab_type": "code",
    "id": "_z4aLqAbEET1"
   },
   "outputs": [
    {
     "name": "stdout",
     "output_type": "stream",
     "text": [
      "{1: 10, 2: 20, 3: 30, 4: 40, 5: 50, 6: 60}\n"
     ]
    }
   ],
   "source": [
    "# write your answer here\n",
    "\n",
    "dic1={1:10, 2:20}  \n",
    "dic2={3:30, 4:40}  \n",
    "dic3={5:50,6:60}  \n",
    "dic4 = {}  \n",
    "for d in (dic1, dic2, dic3): dic4.update(d)  \n",
    "print(dic4)"
   ]
  },
  {
   "cell_type": "markdown",
   "metadata": {
    "colab_type": "text",
    "id": "0v48Vqa7FrQh"
   },
   "source": [
    "(7) Write a Python program to check whether an element exists within a tuple. (4 points)"
   ]
  },
  {
   "cell_type": "code",
   "execution_count": 8,
   "metadata": {
    "colab": {},
    "colab_type": "code",
    "id": "7WEmgq-DF2P1"
   },
   "outputs": [
    {
     "name": "stdout",
     "output_type": "stream",
     "text": [
      "True\n",
      "False\n"
     ]
    }
   ],
   "source": [
    "# write your answer here\n",
    "\n",
    "tuplex = (\"w\", 3, \"r\", \"e\", \"s\", \"o\", \"u\", \"r\", \"c\", \"e\")\n",
    "print(\"r\" in tuplex)\n",
    "print(5 in tuplex)"
   ]
  },
  {
   "cell_type": "markdown",
   "metadata": {
    "colab_type": "text",
    "id": "vD5PYLMuGga_"
   },
   "source": [
    "(8) Write a Python program to find maximum and the minimum value in a set. (4 points)"
   ]
  },
  {
   "cell_type": "code",
   "execution_count": 9,
   "metadata": {
    "colab": {},
    "colab_type": "code",
    "id": "t0D5kdJUGjjw"
   },
   "outputs": [
    {
     "name": "stdout",
     "output_type": "stream",
     "text": [
      "20\n",
      "2\n"
     ]
    }
   ],
   "source": [
    "# write your answer here\n",
    "\n",
    "#Create a set\n",
    "seta = set([5, 10, 3, 15, 2, 20])\n",
    "#Find maximum value\n",
    "print(max(seta))\n",
    "#Find minimum value\n",
    "print(min(seta))"
   ]
  },
  {
   "cell_type": "markdown",
   "metadata": {
    "colab_type": "text",
    "id": "uHkd-y5VhVWC"
   },
   "source": [
    "(9) Write a Python program to randomly divide the students in this class into six groups for term projects, each group should have at least 4 students but no more than 6 students (including 6). Here is the students list: (4 points)\n",
    "\n",
    "studnet_list = ['vmb0067','pc0353','snd0097','yye0005','sg0940','bk0301','rak0120','rrk0058','spk0057','vl0135','nm0547','pn0159',\n",
    "           'msp0174','dd0420','ds0761','rs0850','ss1995','at0739','at0768','mv0299','tv0119','dy0091','py0080','ttp0037','hc0439','ri0094','pk0339', 'hn0145','mn0426']"
   ]
  },
  {
   "cell_type": "code",
   "execution_count": 17,
   "metadata": {
    "colab": {},
    "colab_type": "code",
    "id": "3iGbmcOBhTwy"
   },
   "outputs": [],
   "source": [
    "# write your answer here\n",
    "\n",
    "import random\n",
    "#sampling with replacement\n",
    "studnet_list = ['vmb0067','pc0353','snd0097','yye0005','sg0940','bk0301','rak0120','rrk0058','spk0057','vl0135','nm0547','pn0159', \n",
    "                'msp0174','dd0420','ds0761','rs0850','ss1995','at0739','at0768','mv0299',\n",
    "                'tv0119','dy0091','py0080','ttp0037','hc0439','ri0094','pk0339', 'hn0145','mn0426']\n",
    "group_size = []\n",
    "for i in range(6):\n",
    "    group_size.append(random.randint(4,6))\n",
    "\n",
    "# make sure that the sum of the group size is 22\n",
    "if sum(group_size) == len(studnet_list):\n",
    "    print(group_size)\n",
    "    for j in range(6):\n",
    "        sampling = random.sample(studnet_list,group_size[j-1])\n",
    "        studnet_list = [j for j in studnet_list if j not in sampling]\n",
    "        print(\"Group \" +str(j+1)+\": \", sampling)"
   ]
  },
  {
   "cell_type": "markdown",
   "metadata": {},
   "source": [
    "(10) Write a Python program to find the duplicate elements in a given array of integers. Return -1 If there are no such elements. (4 points)"
   ]
  },
  {
   "cell_type": "code",
   "execution_count": 12,
   "metadata": {},
   "outputs": [
    {
     "name": "stdout",
     "output_type": "stream",
     "text": [
      "4\n",
      "-1\n",
      "1\n"
     ]
    }
   ],
   "source": [
    "# write your answer here\n",
    "\n",
    "# write your answer here\n",
    "\n",
    "def find_first_duplicate(nums):\n",
    "    num_set = set()\n",
    "    no_duplicate = -1\n",
    "\n",
    "    for i in range(len(nums)):\n",
    "\n",
    "        if nums[i] in num_set:\n",
    "            return nums[i]\n",
    "        else:\n",
    "            num_set.add(nums[i])\n",
    "\n",
    "    return no_duplicate\n",
    "\n",
    "print(find_first_duplicate([1, 2, 3, 4, 4, 5]))\n",
    "print(find_first_duplicate([1, 2, 3, 4]))\n",
    "print(find_first_duplicate([1, 1, 2, 3, 3, 2, 2]))"
   ]
  },
  {
   "cell_type": "markdown",
   "metadata": {},
   "source": [
    "(11) Write a Python program to select all the Sundays of a specified year. (4 extra points)"
   ]
  },
  {
   "cell_type": "code",
   "execution_count": 14,
   "metadata": {},
   "outputs": [
    {
     "name": "stdout",
     "output_type": "stream",
     "text": [
      "2021-01-03\n",
      "2021-01-10\n",
      "2021-01-17\n",
      "2021-01-24\n",
      "2021-01-31\n",
      "2021-02-07\n",
      "2021-02-14\n",
      "2021-02-21\n",
      "2021-02-28\n",
      "2021-03-07\n",
      "2021-03-14\n",
      "2021-03-21\n",
      "2021-03-28\n",
      "2021-04-04\n",
      "2021-04-11\n",
      "2021-04-18\n",
      "2021-04-25\n",
      "2021-05-02\n",
      "2021-05-09\n",
      "2021-05-16\n",
      "2021-05-23\n",
      "2021-05-30\n",
      "2021-06-06\n",
      "2021-06-13\n",
      "2021-06-20\n",
      "2021-06-27\n",
      "2021-07-04\n",
      "2021-07-11\n",
      "2021-07-18\n",
      "2021-07-25\n",
      "2021-08-01\n",
      "2021-08-08\n",
      "2021-08-15\n",
      "2021-08-22\n",
      "2021-08-29\n",
      "2021-09-05\n",
      "2021-09-12\n",
      "2021-09-19\n",
      "2021-09-26\n",
      "2021-10-03\n",
      "2021-10-10\n",
      "2021-10-17\n",
      "2021-10-24\n",
      "2021-10-31\n",
      "2021-11-07\n",
      "2021-11-14\n",
      "2021-11-21\n",
      "2021-11-28\n",
      "2021-12-05\n",
      "2021-12-12\n",
      "2021-12-19\n",
      "2021-12-26\n"
     ]
    }
   ],
   "source": [
    "# write your answer here\n",
    "\n",
    "from datetime import date, timedelta\n",
    "\n",
    "def all_sundays(year):\n",
    "# January 1st of the given year\n",
    "       dt = date(year, 1, 1)\n",
    "# First Sunday of the given year       \n",
    "       dt += timedelta(days = 6 - dt.weekday())  \n",
    "       while dt.year == year:\n",
    "          yield dt\n",
    "          dt += timedelta(days = 7)\n",
    "          \n",
    "for s in all_sundays(2021):\n",
    "   print(s)"
   ]
  },
  {
   "cell_type": "code",
   "execution_count": null,
   "metadata": {},
   "outputs": [],
   "source": []
  }
 ],
 "metadata": {
  "colab": {
   "collapsed_sections": [],
   "include_colab_link": true,
   "name": "In_class_exercise_01.ipynb",
   "provenance": []
  },
  "kernelspec": {
   "display_name": "Python 3",
   "language": "python",
   "name": "python3"
  },
  "language_info": {
   "codemirror_mode": {
    "name": "ipython",
    "version": 3
   },
   "file_extension": ".py",
   "mimetype": "text/x-python",
   "name": "python",
   "nbconvert_exporter": "python",
   "pygments_lexer": "ipython3",
   "version": "3.8.5"
  }
 },
 "nbformat": 4,
 "nbformat_minor": 1
}
